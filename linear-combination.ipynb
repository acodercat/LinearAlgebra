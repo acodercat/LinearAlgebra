{
 "cells": [
  {
   "cell_type": "markdown",
   "metadata": {},
   "source": [
    "# 线性组合"
   ]
  },
  {
   "cell_type": "markdown",
   "metadata": {},
   "source": [
    "存在一组向量$\\vec{v}_{1},\\vec{v}_{2},\\vec{v}_{3},\\cdots,\\vec{v}_{p}$和一组标量$c_{1},c_{2},c_{3},\\cdots,c_{p}$"
   ]
  },
  {
   "cell_type": "markdown",
   "metadata": {},
   "source": [
    "存在一组向量![](https://render.githubusercontent.com/render/math?math=%5Cvec%7Bv%7D_%7B1%7D%2C%5Cvec%7Bv%7D_%7B2%7D%2C%5Cvec%7Bv%7D_%7B3%7D%2C%5Ccdots%2C%5Cvec%7Bv%7D_%7Bp%7D&mode=inline)"
   ]
  },
  {
   "cell_type": "markdown",
   "metadata": {},
   "source": [
    "有一个矩阵$A = \\begin{bmatrix}\n",
    "1 & 2 & 3 & \\\\ \n",
    "1 & 2 & 3 & \\\\ \n",
    "1 & 1 &  1& \n",
    "\\end{bmatrix}$"
   ]
  },
  {
   "cell_type": "code",
   "execution_count": null,
   "metadata": {},
   "outputs": [],
   "source": []
  }
 ],
 "metadata": {
  "kernelspec": {
   "display_name": "Python 3",
   "language": "python",
   "name": "python3"
  },
  "language_info": {
   "codemirror_mode": {
    "name": "ipython",
    "version": 3
   },
   "file_extension": ".py",
   "mimetype": "text/x-python",
   "name": "python",
   "nbconvert_exporter": "python",
   "pygments_lexer": "ipython3",
   "version": "3.7.0"
  }
 },
 "nbformat": 4,
 "nbformat_minor": 2
}
