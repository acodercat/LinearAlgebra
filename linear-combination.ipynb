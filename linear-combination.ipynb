{
 "cells": [
  {
   "cell_type": "markdown",
   "metadata": {},
   "source": [
    "# 线性组合"
   ]
  },
  {
   "cell_type": "markdown",
   "metadata": {},
   "source": [
    "存在一组$R^{n}$中的向量$\\left \\{\\vec{v}_{1},\\vec{v}_{2},\\cdots,\\vec{v}_{p}\\right \\}$和一组标量$\\left \\{c_{1},c_{2},\\cdots,c_{p}\\right\\}$使$\\vec{y}=c_{1}\\vec{v}_{1}+\\cdots+c_{p}\\vec{v}_{p}$。$\\vec{y}=c_{1}\\vec{v}_{1}+\\cdots+c_{p}\\vec{v}_{p}$称为向量$\\left \\{\\vec{v}_{1},\\vec{v}_{2},\\cdots,\\vec{v}_{p}\\right \\}$以$\\left \\{c_{1},c_{2},\\cdots,c_{p}\\right\\}$为权的线性组合。"
   ]
  },
  {
   "cell_type": "markdown",
   "metadata": {},
   "source": [
    "线性组合的权可以为任意实数，包括0，下列向量都是$\\vec{v}_{1}$和$\\vec{v}_{2}$的线性组合："
   ]
  },
  {
   "cell_type": "markdown",
   "metadata": {},
   "source": [
    "$3\\vec{v}_{1}+0\\vec{v}_{2}$，$0\\vec{v}_{1}+0\\vec{v}_{2}$，$\\frac{1}{2}\\vec{v}_{1}+\\vec{v}_{2}$"
   ]
  },
  {
   "cell_type": "markdown",
   "metadata": {},
   "source": [
    "若$\\vec{v}_{1},\\vec{v}_{2},\\cdots,\\vec{v}_{p}$是$R^{n}$中的向量，则$\\left \\{\\vec{v}_{1},\\vec{v}_{2},\\cdots,\\vec{v}_{p}\\right \\}$的所有线性组合构成的集合用记号$Span\\{\\vec{v}_{1},\\vec{v}_{2},\\cdots,\\vec{v}_{p}\\}$表示。也称$Span\\{\\vec{v}_{1},\\vec{v}_{2},\\cdots,\\vec{v}_{p}\\}$是向量集$\\left \\{\\vec{v}_{1},\\vec{v}_{2},\\cdots,\\vec{v}_{p}\\right \\}$所生成的$R^{n}$的子集，也就是说$Span\\{\\vec{v}_{1},\\vec{v}_{2},\\cdots,\\vec{v}_{p}\\}$是所有$c_{1}\\vec{v}_{1}+\\cdots+c_{p}\\vec{v}_{p}$的向量的集合，其中$\\left \\{c_{1},c_{2},\\cdots,c_{p}\\right\\}$为标量。"
   ]
  },
  {
   "cell_type": "markdown",
   "metadata": {},
   "source": [
    "向量方程$Ax=b$有解当且仅当$b$是$A$的各列的线性组合"
   ]
  },
  {
   "cell_type": "markdown",
   "metadata": {},
   "source": [
    "若存在一个$R^{n}$中的向量$\\vec{b}$和一组$R^{n}$中向量$\\left \\{\\vec{v}_{1},\\vec{v}_{2},\\cdots,\\vec{v}_{p}\\right \\}$，如果$\\vec{b}$是$\\left \\{\\vec{v}_{1},\\vec{v}_{2},\\cdots,\\vec{v}_{p}\\right \\}$的线性组合，则下面命题均成立："
   ]
  },
  {
   "cell_type": "markdown",
   "metadata": {},
   "source": [
    "- $\\vec{b}$属于$Span\\{\\vec{v}_{1},\\vec{v}_{2},\\cdots,\\vec{v}_{p}\\}$\n",
    "\n",
    "- 向量方程$x_{1}\\vec{v}_{1}+x_{2}\\vec{v}_{2}+\\cdots+x_{p}\\vec{v}_{p}=\\vec{b}$有解\n",
    "\n",
    "- 增广矩阵为$\\begin{bmatrix}\\vec{v}_{1}&\\vec{v}_{2}&\\cdots&\\vec{v}_{p}&\\vec{b}\\end{bmatrix}$的线性方程组有解"
   ]
  }
 ],
 "metadata": {
  "kernelspec": {
   "display_name": "Python 3",
   "language": "python",
   "name": "python3"
  },
  "language_info": {
   "codemirror_mode": {
    "name": "ipython",
    "version": 3
   },
   "file_extension": ".py",
   "mimetype": "text/x-python",
   "name": "python",
   "nbconvert_exporter": "python",
   "pygments_lexer": "ipython3",
   "version": "3.7.1"
  }
 },
 "nbformat": 4,
 "nbformat_minor": 2
}
