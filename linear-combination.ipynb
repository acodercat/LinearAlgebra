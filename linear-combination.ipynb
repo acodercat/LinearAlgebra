{
 "cells": [
  {
   "cell_type": "markdown",
   "metadata": {},
   "source": [
    "# 线性组合\n",
    "存在一组$R^{n}$中的向量$\\vec{v}_{1},\\vec{v}_{2},\\cdots,\\vec{v}_{p}$和一组标量$c_{1},c_{2},\\cdots,c_{p}$使$\\vec{y}=c_{1}\\vec{v}_{1}+\\cdots+c_{p}\\vec{v}_{p}$。$\\vec{y}=c_{1}\\vec{v}_{1}+\\cdots+c_{p}\\vec{v}_{p}$称为向量$\\vec{v}_{1},\\vec{v}_{2},\\cdots,\\vec{v}_{p}$以$c_{1},c_{2},\\cdots,c_{p}$为权的线性组合。"
   ]
  },
  {
   "cell_type": "markdown",
   "metadata": {},
   "source": [
    "线性组合的权可以为任意实数，包括0，下列向量都是$\\vec{v}_{1}$和$\\vec{v}_{2}$的线性组合："
   ]
  },
  {
   "cell_type": "markdown",
   "metadata": {},
   "source": [
    "$3\\vec{v}_{1}+0\\vec{v}_{2}$，$0\\vec{v}_{1}+0\\vec{v}_{2}$，$\\frac{1}{2}\\vec{v}_{1}+\\vec{v}_{2}$"
   ]
  },
  {
   "cell_type": "markdown",
   "metadata": {},
   "source": [
    "判断一个$R^{n}$中的向量$\\vec{b}$是否是一组$R^{n}$中向量$\\vec{v}_{1},\\vec{v}_{2},\\cdots,\\vec{v}_{p}$的线性组合等价于求解向量方程：$x_{1}\\vec{v}_{1}+x_{2}\\vec{v}_{2}+\\cdots+x_{p}\\vec{v}_{p}=\\vec{b}$相应的增广矩阵为$\\begin{bmatrix}\n",
    "\\vec{v}_{1}&\\vec{v}_{2}&\\cdots&\\vec{v}_{p}&\\vec{b}\n",
    "\\end{bmatrix}$。如果这个向量方程无解那么这个向量$\\vec{b}$就不能表示成是这组向量的线性组合的形式。"
   ]
  },
  {
   "cell_type": "markdown",
   "metadata": {},
   "source": [
    "若$\\vec{v}_{1},\\vec{v}_{2},\\cdots,\\vec{v}_{p}$是$R^{n}$中的向量，则$\\vec{v}_{1},\\vec{v}_{2},\\cdots,\\vec{v}_{p}$的所有线性组合构成的集合用记号$Span\\{\\vec{v}_{1},\\vec{v}_{2},\\cdots,\\vec{v}_{p}\\}$表示。也称$Span\\{\\vec{v}_{1},\\vec{v}_{2},\\cdots,\\vec{v}_{p}\\}$是$\\vec{v}_{1},\\vec{v}_{2},\\cdots,\\vec{v}_{p}$所生成的$R^{n}$的子集，也就是说$Span\\{\\vec{v}_{1},\\vec{v}_{2},\\cdots,\\vec{v}_{p}\\}$是所有$c_{1}\\vec{v}_{1}+\\cdots+c_{p}\\vec{v}_{p}$的向量的集合，其中$c_{1},c_{2},\\cdots,c_{p}$为标量。"
   ]
  },
  {
   "cell_type": "code",
   "execution_count": null,
   "metadata": {},
   "outputs": [],
   "source": []
  },
  {
   "cell_type": "code",
   "execution_count": null,
   "metadata": {},
   "outputs": [],
   "source": []
  }
 ],
 "metadata": {
  "kernelspec": {
   "display_name": "Python 3",
   "language": "python",
   "name": "python3"
  },
  "language_info": {
   "codemirror_mode": {
    "name": "ipython",
    "version": 3
   },
   "file_extension": ".py",
   "mimetype": "text/x-python",
   "name": "python",
   "nbconvert_exporter": "python",
   "pygments_lexer": "ipython3",
   "version": "3.7.0"
  }
 },
 "nbformat": 4,
 "nbformat_minor": 2
}
