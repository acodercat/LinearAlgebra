{
 "cells": [
  {
   "cell_type": "markdown",
   "metadata": {},
   "source": [
    "# 向量\n",
    "---"
   ]
  },
  {
   "cell_type": "markdown",
   "metadata": {},
   "source": [
    "## 定义和性质"
   ]
  },
  {
   "cell_type": "markdown",
   "metadata": {},
   "source": [
    "* 一组用来表示长度（大小）和方向的量。比如在直角坐标系中从原点到点$P\\left ( 6,8 \\right )$的有向线段可以用向量$\\begin{bmatrix}\n",
    "6\\\\\n",
    "8 \n",
    "\\end{bmatrix}$表示。"
   ]
  },
  {
   "cell_type": "markdown",
   "metadata": {},
   "source": [
    "* 向量是线性代数研究的基本元素。"
   ]
  },
  {
   "cell_type": "markdown",
   "metadata": {},
   "source": [
    "* 向量分为列向量和行向量，通常我们把列向量简称向量。"
   ]
  },
  {
   "cell_type": "markdown",
   "metadata": {},
   "source": [
    "* 向量具有维数，比如二维向量$\\vec{v}=\\begin{bmatrix}\n",
    "v_{1}\\\\\n",
    "v_{2}\n",
    "\\end{bmatrix}$和三维向量$\\vec{u}=\\begin{bmatrix}\n",
    "u_{1}\\\\\n",
    "u_{2}\\\\\n",
    "u_{3}\\\\\n",
    "\\end{bmatrix}$。由于向量是一组实数组成，所以通常我们把一个$n$维的向量记做$R^{n}$。"
   ]
  },
  {
   "cell_type": "markdown",
   "metadata": {},
   "source": [
    "* 两个相同维数的向量相等，当且仅当对应元素相等。如向量$\\begin{bmatrix}\n",
    "6\\\\\n",
    "8 \n",
    "\\end{bmatrix}$和$\\begin{bmatrix}\n",
    "8\\\\\n",
    "6 \n",
    "\\end{bmatrix}$是不相等的。"
   ]
  },
  {
   "cell_type": "code",
   "execution_count": null,
   "metadata": {},
   "outputs": [],
   "source": []
  }
 ],
 "metadata": {
  "kernelspec": {
   "display_name": "Python 3",
   "language": "python",
   "name": "python3"
  },
  "language_info": {
   "codemirror_mode": {
    "name": "ipython",
    "version": 3
   },
   "file_extension": ".py",
   "mimetype": "text/x-python",
   "name": "python",
   "nbconvert_exporter": "python",
   "pygments_lexer": "ipython3",
   "version": "3.7.0"
  }
 },
 "nbformat": 4,
 "nbformat_minor": 2
}
