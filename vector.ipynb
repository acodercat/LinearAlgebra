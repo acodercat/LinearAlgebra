{
 "cells": [
  {
   "cell_type": "markdown",
   "metadata": {},
   "source": [
    "# 向量\n",
    "---"
   ]
  },
  {
   "cell_type": "markdown",
   "metadata": {},
   "source": [
    "## 定义与性质"
   ]
  },
  {
   "cell_type": "markdown",
   "metadata": {},
   "source": [
    "* 一组用来表示长度（大小）和方向的量。"
   ]
  },
  {
   "cell_type": "markdown",
   "metadata": {},
   "source": [
    "* 向量通常表示为在一个代数符号上面画上一个箭头，比如$\\vec{v}$。在有些地方也会用粗体来表示向量。"
   ]
  },
  {
   "cell_type": "markdown",
   "metadata": {},
   "source": [
    "* 与向量相对应的是标量，标量一般是一个数字，标量不能表示方向。"
   ]
  },
  {
   "cell_type": "markdown",
   "metadata": {},
   "source": [
    "* 向量是线性代数研究的基本元素。"
   ]
  },
  {
   "cell_type": "markdown",
   "metadata": {},
   "source": [
    "* 向量分为列向量和行向量，列向量是以列的方式进行排列如：$\\vec{v}=\\begin{bmatrix}\n",
    "v_{1}\\\\\n",
    "v_{2}\n",
    "\\end{bmatrix}$，行向量是以行的方式进行排列如：$\\vec{u}=\\begin{bmatrix}\n",
    "u_{1}&u_{2}\n",
    "\\end{bmatrix}$。通常我们把列向量简称向量。"
   ]
  },
  {
   "cell_type": "markdown",
   "metadata": {},
   "source": [
    "* 向量具有维数，比如二维向量$\\vec{v}=\\begin{bmatrix}\n",
    "v_{1}\\\\\n",
    "v_{2}\n",
    "\\end{bmatrix}$和三维向量$\\vec{u}=\\begin{bmatrix}\n",
    "u_{1}\\\\\n",
    "u_{2}\\\\\n",
    "u_{3}\\\\\n",
    "\\end{bmatrix}$。由于向量是一组实数组成，所以通常我们把一个$n$维的向量记做$R^{n}$。"
   ]
  },
  {
   "cell_type": "markdown",
   "metadata": {},
   "source": [
    "* 两个相同维数的向量相等，当且仅当对应元素相等。如向量$\\begin{bmatrix}\n",
    "6\\\\\n",
    "8 \n",
    "\\end{bmatrix}$和$\\begin{bmatrix}\n",
    "8\\\\\n",
    "6 \n",
    "\\end{bmatrix}$是不相等的。"
   ]
  },
  {
   "cell_type": "markdown",
   "metadata": {},
   "source": [
    "## 向量的几何表示"
   ]
  },
  {
   "cell_type": "markdown",
   "metadata": {},
   "source": [
    "可以用$R^{2}$的中向量来表示平面上的任何一个点，即把几何点$\\left ( a,b \\right )$与向量$\\begin{bmatrix}\n",
    "a\\\\\n",
    "b\n",
    "\\end{bmatrix}$等同。所以可以把$R^{2}$中的所有向量看作平面上所有点的集合。"
   ]
  },
  {
   "cell_type": "markdown",
   "metadata": {},
   "source": [
    "向量$\\begin{bmatrix}\n",
    "6\\\\\n",
    "8 \n",
    "\\end{bmatrix}$的几何表示是一条由$\\left ( 0,0 \\right )$到点$\\left ( 6,8 \\right )$的有向线段。"
   ]
  },
  {
   "cell_type": "markdown",
   "metadata": {},
   "source": [
    "## 应用"
   ]
  },
  {
   "cell_type": "markdown",
   "metadata": {},
   "source": [
    "* 可以用向量来表示事物的特征，比如一个人的年龄，身高，体重，腰围可以用向量$\\begin{bmatrix}\n",
    "23\\\\\n",
    "178\\\\\n",
    "62\\\\\n",
    "20\\\\\n",
    "\\end{bmatrix}$来表示。"
   ]
  }
 ],
 "metadata": {
  "kernelspec": {
   "display_name": "Python 3",
   "language": "python",
   "name": "python3"
  },
  "language_info": {
   "codemirror_mode": {
    "name": "ipython",
    "version": 3
   },
   "file_extension": ".py",
   "mimetype": "text/x-python",
   "name": "python",
   "nbconvert_exporter": "python",
   "pygments_lexer": "ipython3",
   "version": "3.7.0"
  }
 },
 "nbformat": 4,
 "nbformat_minor": 2
}
