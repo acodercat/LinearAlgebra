{
 "cells": [
  {
   "cell_type": "markdown",
   "metadata": {},
   "source": [
    "# 线性方程"
   ]
  },
  {
   "cell_type": "markdown",
   "metadata": {},
   "source": [
    "> 包含未知数$x_{1},x_{2}, \\cdots,x_{n}$的线性方程是形如$a_{1}x_{1},a_{2}x_{2},\\cdots,a_{n}x_{n}=b$的方程，其中$b$与系数$a_{1},a_{2},\\cdots,a_{n}$通常都是实数。下标$n$可以是任何正整数。"
   ]
  },
  {
   "cell_type": "markdown",
   "metadata": {},
   "source": [
    "### 线性方程的图像"
   ]
  },
  {
   "cell_type": "markdown",
   "metadata": {},
   "source": [
    "方程$2x+y=10$，对于$x$的每一种取值，都会有一个$y$与之对应。所以该方程有无数个解，把所有解的坐标点在坐标系上连接起来就构成下图中的直线，直线上的任意一个点都是方程$2x+y=10$的解。"
   ]
  },
  {
   "cell_type": "markdown",
   "metadata": {},
   "source": [
    "<img src=\"https://image.coder.cat/2x+y=10.png\" width=\"320\" align=left />"
   ]
  },
  {
   "cell_type": "markdown",
   "metadata": {},
   "source": [
    "### 线性方程组的图像"
   ]
  },
  {
   "cell_type": "markdown",
   "metadata": {},
   "source": [
    "线性方程组是多个方程的组合，每个线性方程的未知数个数相同。其方程组的解是几个线性方程共有的解。方程组$\\left\\{\\begin{matrix}\n",
    "2x+y=10\\\\ \n",
    "3x+y=20\n",
    "\\end{matrix}\\right.$"
   ]
  },
  {
   "cell_type": "markdown",
   "metadata": {},
   "source": [
    "<img src=\"https://image.coder.cat/equation-2.png\" width=\"320\" align=left />"
   ]
  },
  {
   "cell_type": "code",
   "execution_count": null,
   "metadata": {},
   "outputs": [],
   "source": []
  }
 ],
 "metadata": {
  "kernelspec": {
   "display_name": "Python 3",
   "language": "python",
   "name": "python3"
  },
  "language_info": {
   "codemirror_mode": {
    "name": "ipython",
    "version": 3
   },
   "file_extension": ".py",
   "mimetype": "text/x-python",
   "name": "python",
   "nbconvert_exporter": "python",
   "pygments_lexer": "ipython3",
   "version": "3.7.1"
  }
 },
 "nbformat": 4,
 "nbformat_minor": 2
}
