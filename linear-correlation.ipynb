{
 "cells": [
  {
   "cell_type": "markdown",
   "metadata": {},
   "source": [
    "# 线性相关性\n",
    "----"
   ]
  },
  {
   "cell_type": "markdown",
   "metadata": {},
   "source": [
    "- 若称$R^{n}$的一组向量$\\left \\{\\vec{v}_{1},\\vec{v}_{2},\\cdots,\\vec{v}_{p}\\right \\}$线性无关，那么向量方程$x_{1}\\vec{v}_{1}+x_{2}\\vec{v}_{2}+\\cdots+x_{p}\\vec{v}_{p}=0$只有平凡解（全0解）。"
   ]
  },
  {
   "cell_type": "markdown",
   "metadata": {},
   "source": [
    "- 若称$R^{n}$的一组向量$\\left \\{\\vec{v}_{1},\\vec{v}_{2},\\cdots,\\vec{v}_{p}\\right \\}$线性相关，那么向量方程$x_{1}\\vec{v}_{1}+x_{2}\\vec{v}_{2}+\\cdots+x_{p}\\vec{v}_{p}=0$有非平凡解（除了全0解以外的解）。"
   ]
  },
  {
   "cell_type": "markdown",
   "metadata": {},
   "source": [
    "### 线性相关性与线性组合"
   ]
  },
  {
   "cell_type": "markdown",
   "metadata": {},
   "source": [
    "若称$R^{n}$的一组向量$\\left \\{\\vec{v}_{1},\\vec{v}_{2},\\cdots,\\vec{v}_{p}\\right \\}$线性无关，那么存在一组不全为0的权$\\left \\{c_{1},c_{2},\\cdots,c_{p}\\right\\}$，使向量方程$c_{1}\\vec{v}_{1}+c_{2}\\vec{v}_{2}+\\cdots+c_{p}\\vec{v}_{p}=0$。$c_{1}\\vec{v}_{1}+c_{2}\\vec{v}_{2}+\\cdots+c_{p}\\vec{v}_{p}=0$称为向量$\\left \\{\\vec{v}_{1},\\vec{v}_{2},\\cdots,\\vec{v}_{p}\\right \\}$之间的线性相关关系，其中权不全零。"
   ]
  },
  {
   "cell_type": "markdown",
   "metadata": {},
   "source": [
    "### 线性相关性与矩阵方程"
   ]
  },
  {
   "cell_type": "markdown",
   "metadata": {},
   "source": [
    "矩阵可以表示成若干个向量的集合，如矩阵$A=\\begin{bmatrix}\\vec{a}_{1}&\\vec{a}_{2}&\\cdots&\\vec{a}_{n}\\end{bmatrix}$，$A$的每一列都是一个向量。"
   ]
  },
  {
   "cell_type": "markdown",
   "metadata": {},
   "source": [
    "矩阵方程$Ax=0$可以表示成向量方程$x_{1}\\vec{a}_{1}+x_{2}\\vec{a}_{2}+\\cdots+x_{n}\\vec{a}_{n}=0$。$A$的各列之间的每一个线性相关关系对应于方程$Ax=0$的一个非平凡解。"
   ]
  },
  {
   "cell_type": "markdown",
   "metadata": {},
   "source": [
    "矩阵$A$的各列线性无关，当且仅当方程$Ax=0$只有平凡解。"
   ]
  }
 ],
 "metadata": {
  "kernelspec": {
   "display_name": "Python 3",
   "language": "python",
   "name": "python3"
  },
  "language_info": {
   "codemirror_mode": {
    "name": "ipython",
    "version": 3
   },
   "file_extension": ".py",
   "mimetype": "text/x-python",
   "name": "python",
   "nbconvert_exporter": "python",
   "pygments_lexer": "ipython3",
   "version": "3.7.0"
  }
 },
 "nbformat": 4,
 "nbformat_minor": 2
}
